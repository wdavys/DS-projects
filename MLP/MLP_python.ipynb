{
 "cells": [
  {
   "cell_type": "markdown",
   "metadata": {
    "id": "7mI-_EvHopCX"
   },
   "source": [
    "$\\newcommand{\\underbr}[2]{\\underbrace{#1}_{\\scriptscriptstyle{#2}}}$\n",
    "# Multi-Layer Perceptron for binary classification in Python \n",
    "## **Author: Davy Simeu**\n",
    "\n",
    "### Objective\n",
    "We want to implement a two-layer Multi-Layer Perceptron (MLP) with 1 hidden layer in Python (from scratch), for a classification problem.\n",
    "\n",
    "The output of the network is simply the output of several cascaded functions:\n",
    "- Linear transformations. The weights of a linear transformation is denoted by $W$\n",
    "- Additive biases denoted by $b$\n",
    "- Non-linearities/Activation functions such as ``ReLU``, ``sigmoid``\n",
    "\n",
    "For this, we will implement the:\n",
    "- forward propagation\n",
    "- computation of the cost/loss\n",
    "- backward propagation (to calculate the gradients)\n",
    "- update of the parameters\n",
    "\n",
    "Furthermore, we define the following sizes:\n",
    "- $n^{[0]}$: number of input neurons\n",
    "- $n^{[1]}$: number of neurons in hidden layer\n",
    "- $n^{[2]}$: number of neurons in output layer\n",
    "- $m$: number of training data points\n",
    "\n",
    "### Cost function\n",
    "The **cost** is the average of the **loss** over the training data. Since we are dealing with a binary classification problem, we will use the binary cross-entropy.\n",
    "\n",
    "$\\mathcal{L} = - \\big( y \\log(\\hat{y}) + (1-y) \\log(1-\\hat{y}) \\big)$\n",
    "\n",
    "where \n",
    "- $y$ are the ground-truth labels of the data (the true class)\n",
    "- $\\hat{y}$ the estimated labels (outputs of the network, the predicted class).\n",
    "\n",
    "### Forward propagation\n",
    "Following the flow of a data point in the network we have:\n",
    "\n",
    "- $\\large \\underbr{Z^{[1]}}{(m,n^{[1]})} = \\underbr{X}{(m,n^{[0]})} \\underbr{W^{[1]}}{(n^{[0]},n^{[1]})}  + \\underbr{b^{[1]}}{(n^{[1]},)} $\n",
    "- $\\large \\underbr{A^{[1]}}{(m,n^{[1]})} = f(Z^{[1]})$\n",
    "- $\\large \\underbr{Z^{[2]}}{(m,n^{[2]})} = \\underbr{A^{[1]}}{(m,n^{[1]})} \\underbr{W^{[2]}}{(n^{[1]},n^{[2]})}  + \\underbr{b^{[2]}}{(n^{[2]},)}$\n",
    "- $\\large \\underbr{A^{[2]}}{(m,n^{[2]})} = \\sigma(Z^{[2]})$\n",
    "\n",
    "where \n",
    "- $f$ is a ```ReLU``` function\n",
    "- $\\sigma$ is a ``sigmoid`` function\n",
    "\n",
    "### Backward propagation\n",
    "Using the chain rule we obtain:\n",
    "\n",
    "- $\\large \\underbr{dZ^{[2]}}{(m,n^{[2]})} = \\underbr{A^{[2]}}{(m,n^{[2]})} - \\underbr{Y}{(m,n^{[2]})}$\n",
    "- $\\large \\underbr{dW^{[2]}}{(n^{[1]},n^{[2]})} = \\frac{1}{m} {\\underbr{A^{[1]}}{(m,n^{[1]})}}^{T} \\underbr{dZ^{[2]}}{(m,n^{[2]})} $\n",
    "- $\\large \\underbr{db^{[2]}}{(n^{[2]},)} = \\frac{1}{m} \\sum_{i=1}^{m} \\underbr{dZ^{[2]}}{(m,n^{[2]})}$\n",
    "- $\\large \\underbr{dA^{[1]}}{(m,n^{[1]})} = \\underbr{dZ^{[2]}}{(m,n^{[2]})} {\\underbr{W^{[2]}}{(n^{[1]},n^{[2]})}}^{T} $\n",
    "- $\\large \\underbr{dZ^{[1]}}{(m,n^{[1]})} = \\underbr{dA^{[1]}}{(m,n^{[1]})} \\: \\odot \\: f' (\\underbr{Z^{[1]}}{(m,n^{[1]})})$\n",
    "- $\\large \\underbr{dW^{[1]}}{(n^{[0]},n^{[1]})} = \\frac{1}{m} {\\underbr{X}{(m,n^{[0]})}}^{T} \\underbr{dZ^{[1]}}{(m,n^{[1]})} $\n",
    "- $\\large \\underbr{db^{[1]}}{(n^{[1]},)} = \\frac{1}{m} \\sum_{i=1}^{m} \\underbr{dZ^{[1]}}{(m,n^{[1]})}$\n",
    "\n",
    "### Parameters update\n",
    "- We will implement a **first version** in which the parameters are updated using a **batch gradient descent**:\n",
    "    - $W(t) = W(t-1) - \\alpha dW(t)$\n",
    "\n",
    "- Besides, we will also implement a **second version** in which the parameters are updated using the **momentum method**:\n",
    "    - $V_{dW}(t) = \\beta V_{dW}(t-1) + (1-\\beta) dW(t)$\n",
    "    - $W(t) = W(t-1) - \\alpha V_{dW}(t)$\n",
    "\n",
    "**NOTE: The $\\odot$ operator refers to the point-wise multiplication operation. The matrix multiplication operation can be carried out in Python using ```np.dot()```.**"
   ]
  },
  {
   "cell_type": "markdown",
   "metadata": {
    "id": "-OpFxAFiopCY"
   },
   "source": [
    "# Load packages"
   ]
  },
  {
   "cell_type": "code",
   "execution_count": 1,
   "metadata": {
    "id": "c05fkCgFopCY"
   },
   "outputs": [],
   "source": [
    "%matplotlib inline\n",
    "import numpy as np\n",
    "from sklearn import datasets\n",
    "from sklearn import model_selection\n",
    "import matplotlib.pyplot as plt"
   ]
  },
  {
   "cell_type": "markdown",
   "metadata": {
    "id": "GzrpnPCEopCa"
   },
   "source": [
    "# Define a set of functions"
   ]
  },
  {
   "cell_type": "code",
   "execution_count": 2,
   "metadata": {
    "id": "UDDxBp_UopCb"
   },
   "outputs": [],
   "source": [
    "def F_standardize(X):\n",
    "    \"\"\"\n",
    "    Standardize X, i.e. subtract mean (over data) and divide by standard-deviation (over data)\n",
    "    \n",
    "    Parameters\n",
    "    ----------\n",
    "    X: np.array of size (m, n_0)\n",
    "        matrix containing the observation data\n",
    "    \n",
    "    Returns\n",
    "    -------\n",
    "    X: np.array of size (m, n_0)\n",
    "        standardize version of X\n",
    "    \"\"\"\n",
    "    X -= np.mean(X, axis=0, keepdims=True) \n",
    "    X /= (np.std(X, axis=0, keepdims=True) + 1e-16)\n",
    "    \n",
    "    return X"
   ]
  },
  {
   "cell_type": "code",
   "execution_count": 3,
   "metadata": {
    "id": "aHfEONyMopCd"
   },
   "outputs": [],
   "source": [
    "def sigmoid(x):\n",
    "    \"\"\"Compute the value of the sigmoid activation function\"\"\"\n",
    "    return 1 / (1 + np.exp(-x))\n",
    "\n",
    "def relu(x):\n",
    "    \"\"\"Compute the value of the Rectified Linear Unit activation function\"\"\"\n",
    "    return x * (x > 0)\n",
    "\n",
    "def dRelu(x):\n",
    "    \"\"\"Compute the derivative of the Rectified Linear Unit activation function\"\"\"\n",
    "    x[x<=0] = 0\n",
    "    x[x>0] = 1\n",
    "    \n",
    "    return x\n",
    "\n",
    "def computeCost(hat_y, y):\n",
    "    \"\"\"Compute the cost (sum of the losses)\n",
    "    \n",
    "    Parameters\n",
    "    ----------\n",
    "    hat_y: (m, 1)\n",
    "        predicted value by the MLP\n",
    "    y: (m, 1)\n",
    "        ground-truth class to predict\n",
    "    \"\"\"\n",
    "    m = y.shape[0]\n",
    "    loss =  -(y * np.log(hat_y) + (1-y) * np.log(1-hat_y))\n",
    "    cost = np.sum(loss)/m\n",
    "    \n",
    "    return cost\n",
    "\n",
    "def computeAccuracy(hat_y, y):\n",
    "    \"\"\"Compute the accuracy\n",
    "    \n",
    "    Parameters\n",
    "    ----------\n",
    "    hat_y: (m, 1)\n",
    "        predicted value by the MLP\n",
    "    y: (m, 1)\n",
    "        ground-truth class to predict\n",
    "    \"\"\"\n",
    "    m = y.shape[0]    \n",
    "    class_y = np.copy(hat_y)\n",
    "    class_y[class_y>=0.5]=1 # fix a threshold to 0.5\n",
    "    class_y[class_y<0.5]=0\n",
    "    \n",
    "    return np.sum(class_y==y)/m"
   ]
  },
  {
   "cell_type": "markdown",
   "metadata": {
    "id": "c8xKaXHlopCe"
   },
   "source": [
    "# Load dataset and pre-process it"
   ]
  },
  {
   "cell_type": "code",
   "execution_count": 4,
   "metadata": {
    "colab": {
     "base_uri": "https://localhost:8080/",
     "height": 280
    },
    "id": "kU3HU2mnopCf",
    "outputId": "f84b11f0-5f9b-4fc2-db91-1ec9382b84b3"
   },
   "outputs": [
    {
     "data": {
      "image/png": "[encoded data removed]",
      "text/plain": [
       "<Figure size 432x288 with 1 Axes>"
      ]
     },
     "metadata": {
      "needs_background": "light"
     },
     "output_type": "display_data"
    }
   ],
   "source": [
    "X, y = datasets.make_circles(n_samples=1000, noise=0.2, factor=0.5)\n",
    "\n",
    "from pandas import DataFrame\n",
    "# scatter plot, dots colored by class value\n",
    "df = DataFrame(dict(x=X[:,0], y=X[:,1], label=y))\n",
    "colors = {0:'red', 1:'blue'}\n",
    "fig, ax = plt.subplots()\n",
    "grouped = df.groupby('label')\n",
    "for key, group in grouped:\n",
    "    group.plot(ax=ax, kind='scatter', x='x', y='y', label=key, color=colors[key])\n",
    "plt.show()"
   ]
  },
  {
   "cell_type": "code",
   "execution_count": 5,
   "metadata": {
    "colab": {
     "base_uri": "https://localhost:8080/"
    },
    "id": "xR1zNuEWopCh",
    "outputId": "a990f565-5629-4018-c503-741362f57022"
   },
   "outputs": [
    {
     "name": "stdout",
     "output_type": "stream",
     "text": [
      "X.shape: (1000, 2)\n",
      "y.shape: (1000,)\n",
      "{0, 1}\n",
      "X_train.shape: (800, 2)\n",
      "X_test.shape: (200, 2)\n",
      "y_train.shape: (800, 1)\n",
      "y_test.shape: (200, 1)\n",
      "y_train.shape: (800, 1)\n",
      "y_test.shape: (200, 1)\n",
      "n_0=n_in: 2 n_2=n_out: 1\n"
     ]
    }
   ],
   "source": [
    "print(\"X.shape: {}\".format(X.shape))\n",
    "print(\"y.shape: {}\".format(y.shape))\n",
    "print(set(y))\n",
    "\n",
    "# X is (m, n_0)\n",
    "# y is (m,)\n",
    "\n",
    "# --- Standardize data\n",
    "X = F_standardize(X)\n",
    "\n",
    "# --- Split between training set and test set\n",
    "# --- (m, n_0)\n",
    "X_train, X_test, y_train, y_test = model_selection.train_test_split(X, y, test_size=0.2)\n",
    "\n",
    "# --- Convert to proper shape: (m,) -> (m, 1)\n",
    "y_train = y_train.reshape(len(y_train), 1)\n",
    "y_test = y_test.reshape(len(y_test), 1)\n",
    "\n",
    "# --- Convert to oneHotEncoding: (nbExamples, 1) -> (nbExamples, nbClass)\n",
    "n_0 = X_train.shape[1]\n",
    "n_2 = 1\n",
    "\n",
    "print(\"X_train.shape: {}\".format(X_train.shape))\n",
    "print(\"X_test.shape: {}\".format(X_test.shape))\n",
    "print(\"y_train.shape: {}\".format(y_train.shape))\n",
    "print(\"y_test.shape: {}\".format(y_test.shape))\n",
    "print(\"y_train.shape: {}\".format(y_train.shape))\n",
    "print(\"y_test.shape: {}\".format(y_test.shape))\n",
    "print(\"n_0=n_in: {} n_2=n_out: {}\".format(n_0, n_2))"
   ]
  },
  {
   "cell_type": "markdown",
   "metadata": {
    "id": "WFeLTEtqopCj"
   },
   "source": [
    "# Define the ``MultiLayerPerceptron`` class"
   ]
  },
  {
   "cell_type": "code",
   "execution_count": 6,
   "metadata": {
    "id": "zMbOr4aEopCk"
   },
   "outputs": [],
   "source": [
    "class MultiLayerPerceptron:\n",
    "    \"\"\"\n",
    "    A class used to represent a Multi-Layer Perceptron with 1 hidden layer\n",
    "\n",
    "    Attributes\n",
    "    ----------\n",
    "    W1, b1, W2, b2:\n",
    "        weights and biases to be learnt\n",
    "    Z1, A1, Z2, A2:\n",
    "        values of the internal neurons to be used for backpropagation\n",
    "    dW1, db1, dW2, db2, dZ1, dZ2:\n",
    "        partial derivatives of the loss w.r.t. parameters\n",
    "        example: dW1 = dLoss/dW1\n",
    "    VdW1, Vdb1, VdW2, Vdb2:\n",
    "        momentum terms\n",
    "\n",
    "    Methods\n",
    "    -------\n",
    "    forward: \n",
    "        Forward propagation in the MLP\n",
    "    backward: \n",
    "        Backward propagation in the MLP\n",
    "    gradient_descent: \n",
    "        Update MLP parameters using batch gradient descent \n",
    "    momentum: \n",
    "        Same as above but using momentum method\n",
    "    \n",
    "    \"\"\"\n",
    "    \n",
    "    W1, b1, W2, b2 = [], [], [], []\n",
    "    A0, Z1, A1, Z2, A2 = [], [], [], [], []\n",
    "    dW1, db1, dW2, db2 = [], [], [], []   \n",
    "    dZ1, dA1, dZ2 = [], [], []\n",
    "    # for momentum\n",
    "    VdW1, Vdb1, VdW2, Vdb2 = [], [], [], []     \n",
    "    \n",
    "    def __init__(self, n_0, n_1, n_2):\n",
    "        self.W1 = np.random.randn(n_0, n_1) * 0.01\n",
    "        self.b1 = np.zeros(shape=(1, n_1))\n",
    "        self.W2 = np.random.randn(n_1, n_2) * 0.01\n",
    "        self.b2 = np.zeros(shape=(1, n_2))        \n",
    "        # for momentum\n",
    "        self.VdW1 = np.zeros(shape=(n_0, n_1)) \n",
    "        self.Vdb1 = np.zeros(shape=(1, n_1))\n",
    "        self.VdW2 = np.zeros(shape=(n_1, n_2))\n",
    "        self.Vdb2 = np.zeros(shape=(1, n_2))\n",
    "        return\n",
    "    \n",
    "    def __setattr__(self, attrName, val):\n",
    "        if hasattr(self, attrName):\n",
    "            self.__dict__[attrName] = val\n",
    "        else:\n",
    "            raise Exception(\"self.%s note part of the fields\" % attrName)\n",
    "\n",
    "    def forward(self, X):\n",
    "        \"\"\"Forward propagation in the MLP\n",
    "\n",
    "        Parameters\n",
    "        ----------\n",
    "        X: numpy array of shape (m, n_1)\n",
    "            observation data\n",
    "\n",
    "        Return\n",
    "        ------\n",
    "        hat_y: numpy array of shape (m, 1)\n",
    "            predicted value by the MLP\n",
    "        \"\"\"\n",
    "        self.A0 = X\n",
    "        self.Z1 = np.dot(X, self.W1) + self.b1\n",
    "        self.A1 = relu(self.Z1)\n",
    "        self.Z2 = np.dot(self.A1, self.W2) + self.b2\n",
    "        self.A2 = sigmoid(self.Z2)\n",
    "        hat_y = self.A2\n",
    "        \n",
    "        return hat_y\n",
    "\n",
    "    def backward(self, X, y):\n",
    "        \"\"\"Backward propagation in the MLP\n",
    "\n",
    "        Parameters\n",
    "        ----------\n",
    "        X: numpy array of shape (m, n_0)\n",
    "            observation data\n",
    "        y: numpy array of shape (m, 1)\n",
    "            ground-truth class to predict\n",
    "            \n",
    "        \"\"\"\n",
    "        m = y.shape[0]\n",
    "        self.dZ2 = self.A2 - y\n",
    "        self.dW2 = np.dot(self.A1.T, self.dZ2) / m\n",
    "        self.db2 = np.sum(self.dZ2) / m\n",
    "        self.dA1 = np.dot(self.dZ2, self.W2.T)\n",
    "\n",
    "        self.dZ1 = self.dA1 * dRelu(self.Z1)\n",
    "        self.dW1 = np.dot(X.T, self.dZ1) / m\n",
    "        self.db1 = np.sum(self.dZ1) / m\n",
    "    \n",
    "    def gradient_descent(self, alpha):\n",
    "        \"\"\"Update the parameters of the network using gradient descent\n",
    "\n",
    "        Parameters\n",
    "        ----------\n",
    "        alpha: float\n",
    "            amount of update at each step of the gradient descent\n",
    "            \n",
    "        \"\"\"\n",
    "        self.W1 = self.W1 - alpha * self.  C\n",
    "        self.b1 = self.b1 - alpha * self.db1\n",
    "        self.W2 = self.W2 - alpha * self.dW2\n",
    "        self.b2 = self.b2 - alpha * self.db2\n",
    "    \n",
    "    def momentum(self, alpha, beta):\n",
    "        \"\"\"Update the parameters of the network using momentum method\n",
    "\n",
    "        Parameters\n",
    "        ----------\n",
    "        alpha: float\n",
    "            amount of update at each step of the momentum\n",
    "        beta: float\n",
    "            momentum term \n",
    "        \"\"\"\n",
    "        self.VdW1 = beta * self.VdW1 + (1 - beta)*self.dW1\n",
    "        self.W1 = self.W1 - alpha * self.VdW1\n",
    "\n",
    "        self.Vdb1 = beta * self.Vdb1 + (1 - beta)*self.db1\n",
    "        self.b1 = self.b1 - alpha * self.Vdb1\n",
    "\n",
    "        self.VdW2 = beta * self.VdW2 + (1 - beta)*self.dW2\n",
    "        self.W2 = self.W2 - alpha * self.VdW2\n",
    "\n",
    "        self.Vdb2 = beta * self.Vdb2 + (1 - beta)*self.db2\n",
    "        self.b2 = self.b2 - alpha * self.Vdb2\n",
    "        \n",
    "    def train(self, nb_epoch=5000, alpha=0.1, beta=0.9):\n",
    "        \"\"\"Train the \n",
    "\n",
    "        Args:\n",
    "            nb_epoch (int, optional): number of epochs (number of iterations over full training set). Defaults to 5000.\n",
    "            alpha (float, optional): learning rate_description_. Defaults to 0.1.\n",
    "            beta (float, optional): beta parameter for momentum. Defaults to 0.9.\n",
    "        \"\"\"\n",
    "        \n",
    "        # hyper-parameters\n",
    "\n",
    " # \n",
    " # \n",
    " # \n",
    "\n",
    "# Run over epochs\n",
    "for num_epoch in range(0, nb_epoch):\n",
    "    \n",
    "    # --- Forward\n",
    "    hat_y_train = self.forward(X_train)\n",
    "    \n",
    "    # --- Store results on train\n",
    "    train_cost.append(computeCost(hat_y_train, y_train))\n",
    "    train_accuracy.append(computeAccuracy(hat_y_train, y_train))\n",
    "    \n",
    "    # --- Backward\n",
    "    self.backward(X_train, y_train)\n",
    "    \n",
    "    # --- Update\n",
    "    #self.gradient_descent(alpha)\n",
    "    self.momentum(alpha, beta)\n",
    "\n",
    "    # --- Store results on test\n",
    "    hat_y_test = self.forward(X_test)\n",
    "    test_cost.append(computeCost(hat_y_test, y_test))    \n",
    "    test_accuracy.append(computeAccuracy(hat_y_test, y_test))\n",
    "    \n",
    "    if not(num_epoch % 500): \n",
    "        print(\"epoch: {0:d} (cost: train {1:.2f} test {2:.2f}) (accuracy: train {3:.2f} test {4:.2f})\".format(num_epoch, train_cost[-1], test_cost[-1], train_accuracy[-1], test_accuracy[-1]))"
   ]
  },
  {
   "cell_type": "markdown",
   "metadata": {
    "id": "7aRPi2oQopCm"
   },
   "source": [
    "# Perform training using batch gradient descent"
   ]
  },
  {
   "cell_type": "code",
   "execution_count": 7,
   "metadata": {
    "colab": {
     "base_uri": "https://localhost:8080/"
    },
    "id": "U9vEi2gsopCm",
    "outputId": "026f4f08-47cf-45fe-fba3-91b56cb34bf0"
   },
   "outputs": [
    {
     "name": "stdout",
     "output_type": "stream",
     "text": [
      "epoch: 0 (cost: train 0.69 test 0.69) (accuracy: train 0.50 test 0.48)\n",
      "epoch: 500 (cost: train 0.68 test 0.68) (accuracy: train 0.68 test 0.67)\n",
      "epoch: 1000 (cost: train 0.40 test 0.40) (accuracy: train 0.88 test 0.87)\n",
      "epoch: 1500 (cost: train 0.28 test 0.29) (accuracy: train 0.88 test 0.89)\n",
      "epoch: 2000 (cost: train 0.25 test 0.27) (accuracy: train 0.90 test 0.89)\n",
      "epoch: 2500 (cost: train 0.24 test 0.26) (accuracy: train 0.90 test 0.90)\n",
      "epoch: 3000 (cost: train 0.24 test 0.26) (accuracy: train 0.90 test 0.90)\n",
      "epoch: 3500 (cost: train 0.24 test 0.26) (accuracy: train 0.90 test 0.90)\n",
      "epoch: 4000 (cost: train 0.24 test 0.26) (accuracy: train 0.90 test 0.90)\n",
      "epoch: 4500 (cost: train 0.24 test 0.26) (accuracy: train 0.90 test 0.90)\n"
     ]
    }
   ],
   "source": [
    "\n",
    "# Instantiate the class MLP with providing \n",
    "# the size of the various layers (n_0=n_input, n_1=n_hidden, n_2=n_output)\n",
    "n_1 = 10 # number of hidden neurons\n",
    "myMLP = MultiLayerPerceptron(n_0, n_1, n_2)\n",
    "train_cost, train_accuracy, test_cost, test_accuracy = [], [], [], []"
   ]
  },
  {
   "cell_type": "markdown",
   "metadata": {
    "id": "OWH7NblhopCo"
   },
   "source": [
    "## Display train/test loss and accuracy"
   ]
  },
  {
   "cell_type": "code",
   "execution_count": 8,
   "metadata": {
    "colab": {
     "base_uri": "https://localhost:8080/",
     "height": 279
    },
    "id": "SLLjoteXopCp",
    "outputId": "6f59a6d2-d56b-4e37-9417-173433a35164"
   },
   "outputs": [
    {
     "data": {
      "image/png": "[encoded data removed]",
      "text/plain": [
       "<Figure size 432x288 with 2 Axes>"
      ]
     },
     "metadata": {
      "needs_background": "light"
     },
     "output_type": "display_data"
    }
   ],
   "source": [
    "plt.subplot(1,2,1)\n",
    "plt.plot(train_cost, 'r')\n",
    "plt.plot(test_cost, 'g--')\n",
    "plt.xlabel('# epoch')\n",
    "plt.ylabel('loss')\n",
    "plt.grid(True)\n",
    "\n",
    "plt.subplot(1,2,2)\n",
    "plt.plot(train_accuracy, 'r')\n",
    "plt.plot(test_accuracy, 'g--')\n",
    "plt.xlabel('# epoch')\n",
    "plt.ylabel('accuracy')\n",
    "plt.grid(True)"
   ]
  }
 ],
 "metadata": {
  "celltoolbar": "Slideshow",
  "colab": {
   "collapsed_sections": [],
   "name": "DL1_20202021_Lab_MLP_python_student.ipynb",
   "provenance": []
  },
  "kernelspec": {
   "display_name": "Python 3.9.7 ('base')",
   "language": "python",
   "name": "python3"
  },
  "language_info": {
   "codemirror_mode": {
    "name": "ipython",
    "version": 3
   },
   "file_extension": ".py",
   "mimetype": "text/x-python",
   "name": "python",
   "nbconvert_exporter": "python",
   "pygments_lexer": "ipython3",
   "version": "3.9.7"
  },
  "toc": {
   "base_numbering": 1,
   "nav_menu": {},
   "number_sections": true,
   "sideBar": true,
   "skip_h1_title": false,
   "title_cell": "Table of Contents",
   "title_sidebar": "Contents",
   "toc_cell": false,
   "toc_position": {},
   "toc_section_display": true,
   "toc_window_display": false
  },
  "vscode": {
   "interpreter": {
    "hash": "bcc0a6c261aa10b72674be60e0ae3db7dd5e5ee6e769f9f0136ea836107b133d"
   }
  }
 },
 "nbformat": 4,
 "nbformat_minor": 1
}
